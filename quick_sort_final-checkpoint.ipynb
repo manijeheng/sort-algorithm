{
 "cells": [
  {
   "cell_type": "code",
   "execution_count": 4,
   "id": "0602b22f",
   "metadata": {},
   "outputs": [
    {
     "name": "stdout",
     "output_type": "stream",
     "text": [
      "زمان مرتب‌سازی: 0.017189741134643555 ثانیه\n"
     ]
    }
   ],
   "source": [
    "import random\n",
    "import time\n",
    "import numpy as np\n",
    "# ایجاد آرایه ده هزار تایی از اعداد تصادفی بین صفر تا صد هزار\n",
    "array = np.random.randint(0,100000,size=1000)\n",
    "def quick_sort(arr):\n",
    "    if len(arr) <= 1:\n",
    "        return arr\n",
    "    else:\n",
    "        pivot = arr[len(arr) // 2]  # انتخاب محور\n",
    "        left = [x for x in arr if x < pivot]  # عناصر کوچکتر از محور\n",
    "        middle = [x for x in arr if x == pivot]  # عناصر برابر با محور\n",
    "        right = [x for x in arr if x > pivot]  # عناصر بزرگتر از محور\n",
    "        return quick_sort(left) + middle + quick_sort(right)\n",
    "# محاسبه زمان مرتب‌سازی\n",
    "start_time = time.time()\n",
    "quick_sort(array)\n",
    "end_time = time.time()\n",
    "\n",
    "print(f\"زمان مرتب‌سازی: {end_time - start_time} ثانیه\")    "
   ]
  },
  {
   "cell_type": "code",
   "execution_count": null,
   "id": "fce2cdc0",
   "metadata": {},
   "outputs": [],
   "source": []
  }
 ],
 "metadata": {
  "kernelspec": {
   "display_name": "Python 3 (ipykernel)",
   "language": "python",
   "name": "python3"
  },
  "language_info": {
   "codemirror_mode": {
    "name": "ipython",
    "version": 3
   },
   "file_extension": ".py",
   "mimetype": "text/x-python",
   "name": "python",
   "nbconvert_exporter": "python",
   "pygments_lexer": "ipython3",
   "version": "3.11.5"
  }
 },
 "nbformat": 4,
 "nbformat_minor": 5
}
